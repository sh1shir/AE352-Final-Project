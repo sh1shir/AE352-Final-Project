{
 "cells": [
  {
   "cell_type": "markdown",
   "metadata": {},
   "source": [
    "***Drone EOMs***\\\n",
    "This notebook details the EOMs of a drone anf simulates its trajectory based on the requirements.\\\n",
    "\n",
    "• The drone model shall have 6 degrees of freedom (center of mass\n",
    "motion plus attitude) and account for gravity and lift generated from 4\n",
    "rotors.\\\n",
    "• The drone model shall be able to modify its state and attitude solely\n",
    "through increasing or decreasing the number of revolutions per second of\n",
    "its 4 rotor blades, as determined by the motor torques.\\\n",
    "• The modeled drone shall be able to achieve the performance goals\n",
    "as outlined in section 4, without exhausting its power supply.\\\n",
    "• The model as determined through its parameters such as mass,\n",
    "power consumption, engine torques and rotor blade size shall be realistic\n",
    "and implementable, preferably through the use of off-the-shelf parts. In\n",
    "particular, the mass of the drone shall be between 0.1kg and 10kg."
   ]
  },
  {
   "cell_type": "code",
   "execution_count": 76,
   "metadata": {},
   "outputs": [],
   "source": [
    "import numpy as np\n",
    "import sympy as sym\n",
    "sym.init_printing()"
   ]
  },
  {
   "cell_type": "code",
   "execution_count": 77,
   "metadata": {},
   "outputs": [],
   "source": [
    "grav = 9.81 # The acceleration due to gravity in m/s^2\n",
    "mass, Ixx, Iyy, Izz, l = sym.symbols('m I_xx I_yy I_zz l')\n",
    "t1, t2, t3, t4 = sym.symbols('tau_1 tau_2 tau_3 tau_4')\n",
    "C_q = sym.symbols('C_q') # torque coefficient\n",
    "C_l = sym.symbols('C_l') # lift coefficient"
   ]
  },
  {
   "cell_type": "code",
   "execution_count": 89,
   "metadata": {},
   "outputs": [
    {
     "data": {
      "text/latex": [
       "$\\displaystyle \\left[\\begin{matrix}\\frac{C_{l} \\left(\\sin{\\left(\\phi \\right)} \\sin{\\left(\\psi \\right)} + \\sin{\\left(\\theta \\right)} \\cos{\\left(\\phi \\right)} \\cos{\\left(\\psi \\right)}\\right) \\left(\\tau_{1} + \\tau_{2} + \\tau_{3} + \\tau_{4}\\right)}{m}\\\\\\frac{C_{l} \\left(- \\sin{\\left(\\phi \\right)} \\cos{\\left(\\psi \\right)} + \\sin{\\left(\\psi \\right)} \\sin{\\left(\\theta \\right)} \\cos{\\left(\\phi \\right)}\\right) \\left(\\tau_{1} + \\tau_{2} + \\tau_{3} + \\tau_{4}\\right)}{m}\\\\\\frac{C_{l} \\left(\\tau_{1} + \\tau_{2} + \\tau_{3} + \\tau_{4}\\right) \\cos{\\left(\\phi \\right)} \\cos{\\left(\\theta \\right)} - 9.81 m}{m}\\end{matrix}\\right]$"
      ],
      "text/plain": [
       "⎡Cₗ⋅(sin(φ)⋅sin(ψ) + sin(θ)⋅cos(φ)⋅cos(ψ))⋅(τ₁ + τ₂ + τ₃ + τ₄) ⎤\n",
       "⎢───────────────────────────────────────────────────────────── ⎥\n",
       "⎢                              m                               ⎥\n",
       "⎢                                                              ⎥\n",
       "⎢Cₗ⋅(-sin(φ)⋅cos(ψ) + sin(ψ)⋅sin(θ)⋅cos(φ))⋅(τ₁ + τ₂ + τ₃ + τ₄)⎥\n",
       "⎢──────────────────────────────────────────────────────────────⎥\n",
       "⎢                              m                               ⎥\n",
       "⎢                                                              ⎥\n",
       "⎢        Cₗ⋅(τ₁ + τ₂ + τ₃ + τ₄)⋅cos(φ)⋅cos(θ) - 9.81⋅m         ⎥\n",
       "⎢        ─────────────────────────────────────────────         ⎥\n",
       "⎣                              m                               ⎦"
      ]
     },
     "execution_count": 89,
     "metadata": {},
     "output_type": "execute_result"
    }
   ],
   "source": [
    "# Define position\n",
    "px, py, pz = sym.symbols('p_x, p_y, p_z')\n",
    "p = sym.Matrix([[px],\n",
    "                    [py],\n",
    "                    [pz]])\n",
    "\n",
    "# Define velocity (in body frame)\n",
    "vx, vy, vz = sym.symbols('v_x, v_y, v_z')\n",
    "v = sym.Matrix([[vx],\n",
    "                    [vy],\n",
    "                    [vz]])\n",
    "\n",
    "# Define roll (phi), pitch (theta), and yaw (psi) angles\n",
    "phi, theta, psi = sym.symbols('phi, theta, psi')\n",
    "\n",
    "# Define angular velocities (in body frame)\n",
    "wx, wy, wz = sym.symbols('omega_x, omega_y, omega_z')\n",
    "w = sym.Matrix([[wx],\n",
    "                [wy],\n",
    "                [wz]])\n",
    "\n",
    "# Define roll, pitch, and yaw rotation matrices that describe the bus's orientation in the \n",
    "# world frame\n",
    "Rx = sym.Matrix([[1,            0,             0],\n",
    "                 [0, sym.cos(phi), -sym.sin(phi)],\n",
    "                 [0, sym.sin(phi),  sym.cos(phi)]])\n",
    "Ry = sym.Matrix([[ sym.cos(theta), 0, sym.sin(theta)],\n",
    "                 [              0, 1,              0],\n",
    "                 [-sym.sin(theta), 0, sym.cos(theta)]])\n",
    "Rz = sym.Matrix([[sym.cos(psi), -sym.sin(psi), 0],\n",
    "                 [sym.sin(psi),  sym.cos(psi), 0],\n",
    "                 [           0,             0, 1]])\n",
    "R_to_W = Rz @ Ry @ Rx\n",
    "R_to_B = R_to_W.T\n",
    "\n",
    "# Define the thrust and torques generated by each rotor\n",
    "thrust = sym.Matrix([[0],\n",
    "                     [0],\n",
    "                     [C_l*(t1 + t2 + t3 + t4)]])\n",
    "\n",
    "# Rotate the thrust vector into the world frame\n",
    "thrust_inW = R_to_W @ thrust\n",
    "\n",
    "grav_in_W = sym.Matrix([[0.],\n",
    "                       [0.],\n",
    "                       [-mass * grav]])\n",
    "\n",
    "# final translational dynamics\n",
    "F = (thrust_inW + grav_in_W) / mass\n",
    "F\n",
    "\n"
   ]
  },
  {
   "cell_type": "code",
   "execution_count": 90,
   "metadata": {},
   "outputs": [
    {
     "data": {
      "text/latex": [
       "$\\displaystyle \\left[\\begin{matrix}\\frac{C_{l} l \\left(\\tau_{1} - \\tau_{3}\\right) + I_{yy} \\omega_{y} \\omega_{z} - I_{zz} \\omega_{y} \\omega_{z}}{I_{xx}}\\\\\\frac{C_{l} l \\left(\\tau_{2} - \\tau_{4}\\right) - I_{xx} \\omega_{x} \\omega_{z} + I_{zz} \\omega_{x} \\omega_{z}}{I_{yy}}\\\\\\frac{I_{xx} \\omega_{x} \\omega_{y} - I_{yy} \\omega_{x} \\omega_{y} + \\tau_{1} - \\tau_{2} + \\tau_{3} - \\tau_{4}}{I_{zz}}\\end{matrix}\\right]$"
      ],
      "text/plain": [
       "⎡Cₗ⋅l⋅(τ₁ - τ₃) + I_yy⋅ω_y⋅ω_z - I_zz⋅ω_y⋅ω_z⎤\n",
       "⎢────────────────────────────────────────────⎥\n",
       "⎢                    Iₓₓ                     ⎥\n",
       "⎢                                            ⎥\n",
       "⎢ Cₗ⋅l⋅(τ₂ - τ₄) - Iₓₓ⋅ωₓ⋅ω_z + I_zz⋅ωₓ⋅ω_z  ⎥\n",
       "⎢ ─────────────────────────────────────────  ⎥\n",
       "⎢                    I_yy                    ⎥\n",
       "⎢                                            ⎥\n",
       "⎢Iₓₓ⋅ωₓ⋅ω_y - I_yy⋅ωₓ⋅ω_y + τ₁ - τ₂ + τ₃ - τ₄⎥\n",
       "⎢────────────────────────────────────────────⎥\n",
       "⎣                    I_zz                    ⎦"
      ]
     },
     "execution_count": 90,
     "metadata": {},
     "output_type": "execute_result"
    }
   ],
   "source": [
    "# Assemble the moment of inertia matrix\n",
    "I_inB = sym.Matrix([[Ixx, 0.,  0.],\n",
    "                    [0.,  Iyy, 0.],\n",
    "                    [0.,  0.,  Izz]])\n",
    "\n",
    "\n",
    "# Define the torques generated by each rotor\n",
    "tau = sym.Matrix([[l*C_l*(t1 - t3)],\n",
    "                  [l*C_l*(t2 - t4)],\n",
    "                  [(t1 - t2 + t3 - t4)]])\n",
    "\n",
    "# Compute the angular acceleration in the body frame\n",
    "# tau_inB = R_to_B @ tau\n",
    "w_dot = I_inB.inv() @ (tau - w.cross(I_inB @ w))\n",
    "\n",
    "# final rotational dynamics\n",
    "w_dot\n",
    "\n",
    "\n"
   ]
  },
  {
   "cell_type": "code",
   "execution_count": 91,
   "metadata": {},
   "outputs": [
    {
     "data": {
      "text/latex": [
       "$\\displaystyle \\left[\\begin{matrix}v_{x}\\\\v_{y}\\\\v_{z}\\\\\\frac{C_{l} \\left(\\sin{\\left(\\phi \\right)} \\sin{\\left(\\psi \\right)} + \\sin{\\left(\\theta \\right)} \\cos{\\left(\\phi \\right)} \\cos{\\left(\\psi \\right)}\\right) \\left(\\tau_{1} + \\tau_{2} + \\tau_{3} + \\tau_{4}\\right)}{m}\\\\\\frac{C_{l} \\left(- \\sin{\\left(\\phi \\right)} \\cos{\\left(\\psi \\right)} + \\sin{\\left(\\psi \\right)} \\sin{\\left(\\theta \\right)} \\cos{\\left(\\phi \\right)}\\right) \\left(\\tau_{1} + \\tau_{2} + \\tau_{3} + \\tau_{4}\\right)}{m}\\\\\\frac{C_{l} \\left(\\tau_{1} + \\tau_{2} + \\tau_{3} + \\tau_{4}\\right) \\cos{\\left(\\phi \\right)} \\cos{\\left(\\theta \\right)} - 9.81 m}{m}\\\\\\omega_{x}\\\\\\omega_{y}\\\\\\omega_{z}\\\\\\frac{C_{l} l \\left(\\tau_{1} - \\tau_{3}\\right) + I_{yy} \\omega_{y} \\omega_{z} - I_{zz} \\omega_{y} \\omega_{z}}{I_{xx}}\\\\\\frac{C_{l} l \\left(\\tau_{2} - \\tau_{4}\\right) - I_{xx} \\omega_{x} \\omega_{z} + I_{zz} \\omega_{x} \\omega_{z}}{I_{yy}}\\\\\\frac{I_{xx} \\omega_{x} \\omega_{y} - I_{yy} \\omega_{x} \\omega_{y} + \\tau_{1} - \\tau_{2} + \\tau_{3} - \\tau_{4}}{I_{zz}}\\end{matrix}\\right]$"
      ],
      "text/plain": [
       "⎡                              vₓ                              ⎤\n",
       "⎢                                                              ⎥\n",
       "⎢                             v_y                              ⎥\n",
       "⎢                                                              ⎥\n",
       "⎢                             v_z                              ⎥\n",
       "⎢                                                              ⎥\n",
       "⎢Cₗ⋅(sin(φ)⋅sin(ψ) + sin(θ)⋅cos(φ)⋅cos(ψ))⋅(τ₁ + τ₂ + τ₃ + τ₄) ⎥\n",
       "⎢───────────────────────────────────────────────────────────── ⎥\n",
       "⎢                              m                               ⎥\n",
       "⎢                                                              ⎥\n",
       "⎢Cₗ⋅(-sin(φ)⋅cos(ψ) + sin(ψ)⋅sin(θ)⋅cos(φ))⋅(τ₁ + τ₂ + τ₃ + τ₄)⎥\n",
       "⎢──────────────────────────────────────────────────────────────⎥\n",
       "⎢                              m                               ⎥\n",
       "⎢                                                              ⎥\n",
       "⎢        Cₗ⋅(τ₁ + τ₂ + τ₃ + τ₄)⋅cos(φ)⋅cos(θ) - 9.81⋅m         ⎥\n",
       "⎢        ─────────────────────────────────────────────         ⎥\n",
       "⎢                              m                               ⎥\n",
       "⎢                                                              ⎥\n",
       "⎢                              ωₓ                              ⎥\n",
       "⎢                                                              ⎥\n",
       "⎢                             ω_y                              ⎥\n",
       "⎢                                                              ⎥\n",
       "⎢                             ω_z                              ⎥\n",
       "⎢                                                              ⎥\n",
       "⎢         Cₗ⋅l⋅(τ₁ - τ₃) + I_yy⋅ω_y⋅ω_z - I_zz⋅ω_y⋅ω_z         ⎥\n",
       "⎢         ────────────────────────────────────────────         ⎥\n",
       "⎢                             Iₓₓ                              ⎥\n",
       "⎢                                                              ⎥\n",
       "⎢          Cₗ⋅l⋅(τ₂ - τ₄) - Iₓₓ⋅ωₓ⋅ω_z + I_zz⋅ωₓ⋅ω_z           ⎥\n",
       "⎢          ─────────────────────────────────────────           ⎥\n",
       "⎢                             I_yy                             ⎥\n",
       "⎢                                                              ⎥\n",
       "⎢         Iₓₓ⋅ωₓ⋅ω_y - I_yy⋅ωₓ⋅ω_y + τ₁ - τ₂ + τ₃ - τ₄         ⎥\n",
       "⎢         ────────────────────────────────────────────         ⎥\n",
       "⎣                             I_zz                             ⎦"
      ]
     },
     "execution_count": 91,
     "metadata": {},
     "output_type": "execute_result"
    }
   ],
   "source": [
    "# cocatenate the translational and rotational dynamics\n",
    "pdot = sym.Matrix.vstack(v)\n",
    "ang_dot = sym.Matrix.vstack(w)\n",
    "X_dot = sym.Matrix.vstack(pdot, F, ang_dot, w_dot)\n",
    "X_dot"
   ]
  },
  {
   "cell_type": "code",
   "execution_count": null,
   "metadata": {},
   "outputs": [],
   "source": []
  },
  {
   "cell_type": "code",
   "execution_count": 92,
   "metadata": {},
   "outputs": [],
   "source": [
    "# Ixx = 0.0023  # The moment of inertia of the quadrotor in \n",
    "# Iyy = 0.0023  # The mass of the quadrotor in kg\n",
    "# Izz = 0.0040  # The mass of the quadrotor in kg\n",
    "# lxy = 0.25    # The x or y distance from the quadrotor frame to the mocap markers in meters\n",
    "# lz = 0.046875 # The z distance from the quadrotor frame to the mocap markers in meters\n",
    "# l = 0.035\n",
    "# m = 0.65      # The mass of the quad"
   ]
  },
  {
   "cell_type": "code",
   "execution_count": 104,
   "metadata": {},
   "outputs": [
    {
     "name": "stdout",
     "output_type": "stream",
     "text": [
      "The state rate vector at the equilibrium point:\n"
     ]
    },
    {
     "data": {
      "text/latex": [
       "$\\displaystyle \\left[\\begin{matrix}0\\\\0\\\\0\\\\0\\\\0\\\\0\\\\0\\\\0\\\\0\\\\0\\\\0\\\\0\\end{matrix}\\right]$"
      ],
      "text/plain": [
       "⎡0⎤\n",
       "⎢ ⎥\n",
       "⎢0⎥\n",
       "⎢ ⎥\n",
       "⎢0⎥\n",
       "⎢ ⎥\n",
       "⎢0⎥\n",
       "⎢ ⎥\n",
       "⎢0⎥\n",
       "⎢ ⎥\n",
       "⎢0⎥\n",
       "⎢ ⎥\n",
       "⎢0⎥\n",
       "⎢ ⎥\n",
       "⎢0⎥\n",
       "⎢ ⎥\n",
       "⎢0⎥\n",
       "⎢ ⎥\n",
       "⎢0⎥\n",
       "⎢ ⎥\n",
       "⎢0⎥\n",
       "⎢ ⎥\n",
       "⎣0⎦"
      ]
     },
     "execution_count": 104,
     "metadata": {},
     "output_type": "execute_result"
    }
   ],
   "source": [
    "# Finding the equilibrium points of the system\n",
    "# Define the equilibrium point\n",
    "p_eq = np.array([0., 0., 0.])\n",
    "v_eq = np.array([0., 0., 0.])\n",
    "ang_eq = np.array([[0.], [0.], [0.]]).flatten()\n",
    "w_eq = np.array([[0.], [0.], [0.]]).flatten()\n",
    "tau_eq = np.array([[mass*grav/4], [mass*grav/4], [mass*grav/4], [mass*grav/4]]).flatten()\n",
    "tau_eq /= C_l\n",
    "# plug equilibrium values into the state rate vector\n",
    "f_eq = X_dot.subs({px: p_eq[0], py: p_eq[1], pz: p_eq[2],\n",
    "                     vx: v_eq[0], vy: v_eq[1], vz: v_eq[2],\n",
    "                     phi: ang_eq[0], theta: ang_eq[1], psi: ang_eq[2],\n",
    "                     wx: w_eq[0], wy: w_eq[1], wz: w_eq[2],\n",
    "                     t1: tau_eq[0], t2: tau_eq[1], t3: tau_eq[2], t4: tau_eq[3],\n",
    "                    })\n",
    "print(\"The state rate vector at the equilibrium point:\")\n",
    "sym.N(f_eq,3)\n"
   ]
  },
  {
   "cell_type": "code",
   "execution_count": 107,
   "metadata": {},
   "outputs": [
    {
     "name": "stdout",
     "output_type": "stream",
     "text": [
      "The A matrix and B Matrix:\n"
     ]
    },
    {
     "data": {
      "text/latex": [
       "$\\displaystyle \\left( \\left[\\begin{array}{cccccccccccc}0 & 0 & 0 & 1 & 0 & 0 & 0 & 0 & 0 & 0 & 0 & 0\\\\0 & 0 & 0 & 0 & 1 & 0 & 0 & 0 & 0 & 0 & 0 & 0\\\\0 & 0 & 0 & 0 & 0 & 1 & 0 & 0 & 0 & 0 & 0 & 0\\\\0 & 0 & 0 & 0 & 0 & 0 & 0 & 9.81 & 0 & 0 & 0 & 0\\\\0 & 0 & 0 & 0 & 0 & 0 & -9.81 & 0 & 0 & 0 & 0 & 0\\\\0 & 0 & 0 & 0 & 0 & 0 & 0 & 0 & 0 & 0 & 0 & 0\\\\0 & 0 & 0 & 0 & 0 & 0 & 0 & 0 & 0 & 1 & 0 & 0\\\\0 & 0 & 0 & 0 & 0 & 0 & 0 & 0 & 0 & 0 & 1 & 0\\\\0 & 0 & 0 & 0 & 0 & 0 & 0 & 0 & 0 & 0 & 0 & 1\\\\0 & 0 & 0 & 0 & 0 & 0 & 0 & 0 & 0 & 0 & 0 & 0\\\\0 & 0 & 0 & 0 & 0 & 0 & 0 & 0 & 0 & 0 & 0 & 0\\\\0 & 0 & 0 & 0 & 0 & 0 & 0 & 0 & 0 & 0 & 0 & 0\\end{array}\\right], \\  \\left[\\begin{matrix}0 & 0 & 0 & 0\\\\0 & 0 & 0 & 0\\\\0 & 0 & 0 & 0\\\\0 & 0 & 0 & 0\\\\0 & 0 & 0 & 0\\\\\\frac{1.0 C_{l}}{m} & \\frac{1.0 C_{l}}{m} & \\frac{1.0 C_{l}}{m} & \\frac{1.0 C_{l}}{m}\\\\0 & 0 & 0 & 0\\\\0 & 0 & 0 & 0\\\\0 & 0 & 0 & 0\\\\\\frac{C_{l} l}{I_{xx}} & 0 & - \\frac{C_{l} l}{I_{xx}} & 0\\\\0 & \\frac{C_{l} l}{I_{yy}} & 0 & - \\frac{C_{l} l}{I_{yy}}\\\\I_{zz}^{-1.0} & - \\frac{1}{I_{zz}} & I_{zz}^{-1.0} & - \\frac{1}{I_{zz}}\\end{matrix}\\right]\\right)$"
      ],
      "text/plain": [
       "⎛                                             ⎡   0        0        0        0\n",
       "⎜                                             ⎢                               \n",
       "⎜                                             ⎢   0        0        0        0\n",
       "⎜                                             ⎢                               \n",
       "⎜⎡0  0  0  1  0  0    0     0    0  0  0  0⎤  ⎢   0        0        0        0\n",
       "⎜⎢                                         ⎥  ⎢                               \n",
       "⎜⎢0  0  0  0  1  0    0     0    0  0  0  0⎥  ⎢   0        0        0        0\n",
       "⎜⎢                                         ⎥  ⎢                               \n",
       "⎜⎢0  0  0  0  0  1    0     0    0  0  0  0⎥  ⎢   0        0        0        0\n",
       "⎜⎢                                         ⎥  ⎢                               \n",
       "⎜⎢0  0  0  0  0  0    0    9.81  0  0  0  0⎥  ⎢ 1.0⋅Cₗ   1.0⋅Cₗ   1.0⋅Cₗ   1.0\n",
       "⎜⎢                                         ⎥  ⎢ ──────   ──────   ──────   ───\n",
       "⎜⎢0  0  0  0  0  0  -9.81   0    0  0  0  0⎥  ⎢   m        m        m        m\n",
       "⎜⎢                                         ⎥  ⎢                               \n",
       "⎜⎢0  0  0  0  0  0    0     0    0  0  0  0⎥  ⎢   0        0        0        0\n",
       "⎜⎢                                         ⎥, ⎢                               \n",
       "⎜⎢0  0  0  0  0  0    0     0    0  1  0  0⎥  ⎢   0        0        0        0\n",
       "⎜⎢                                         ⎥  ⎢                               \n",
       "⎜⎢0  0  0  0  0  0    0     0    0  0  1  0⎥  ⎢   0        0        0        0\n",
       "⎜⎢                                         ⎥  ⎢                               \n",
       "⎜⎢0  0  0  0  0  0    0     0    0  0  0  1⎥  ⎢  Cₗ⋅l             -Cₗ⋅l       \n",
       "⎜⎢                                         ⎥  ⎢  ────      0      ──────     0\n",
       "⎜⎢0  0  0  0  0  0    0     0    0  0  0  0⎥  ⎢  Iₓₓ               Iₓₓ        \n",
       "⎜⎢                                         ⎥  ⎢                               \n",
       "⎜⎢0  0  0  0  0  0    0     0    0  0  0  0⎥  ⎢           Cₗ⋅l             -Cₗ\n",
       "⎜⎢                                         ⎥  ⎢   0       ────      0      ───\n",
       "⎜⎣0  0  0  0  0  0    0     0    0  0  0  0⎦  ⎢           I_yy              I_\n",
       "⎜                                             ⎢                               \n",
       "⎜                                             ⎢    -1.0   -1         -1.0   -1\n",
       "⎜                                             ⎢I_zz       ────   I_zz       ──\n",
       "⎝                                             ⎣           I_zz              I_\n",
       "\n",
       "   ⎤⎞\n",
       "   ⎥⎟\n",
       "   ⎥⎟\n",
       "   ⎥⎟\n",
       "   ⎥⎟\n",
       "   ⎥⎟\n",
       "   ⎥⎟\n",
       "   ⎥⎟\n",
       "   ⎥⎟\n",
       "   ⎥⎟\n",
       "⋅Cₗ⎥⎟\n",
       "───⎥⎟\n",
       "   ⎥⎟\n",
       "   ⎥⎟\n",
       "   ⎥⎟\n",
       "   ⎥⎟\n",
       "   ⎥⎟\n",
       "   ⎥⎟\n",
       "   ⎥⎟\n",
       "   ⎥⎟\n",
       "   ⎥⎟\n",
       "   ⎥⎟\n",
       "   ⎥⎟\n",
       "   ⎥⎟\n",
       "⋅l ⎥⎟\n",
       "───⎥⎟\n",
       "yy ⎥⎟\n",
       "   ⎥⎟\n",
       "   ⎥⎟\n",
       "── ⎥⎟\n",
       "zz ⎦⎠"
      ]
     },
     "execution_count": 107,
     "metadata": {},
     "output_type": "execute_result"
    }
   ],
   "source": [
    "# Linearize the system\n",
    "# A_ = f_eq.jacobian(X_dot)\n",
    "A_ = sym.lambdify([px, py, pz, vx, vy, vz, phi, theta, psi, wx, wy, wz, t1, t2, t3, t4], X_dot.jacobian([px, py, pz, vx, vy, vz, phi, theta, psi, wx, wy, wz]), 'numpy')\n",
    "# substitute the equilibrium values into the A matrix\n",
    "A_lin = sym.Matrix(A_(p_eq[0], p_eq[1], p_eq[2], v_eq[0], v_eq[1], v_eq[2], ang_eq[0], ang_eq[1], ang_eq[2], w_eq[0], w_eq[1], w_eq[2], tau_eq[0], tau_eq[1], tau_eq[2], tau_eq[3]))\n",
    "B_ = sym.lambdify([px, py, pz, vx, vy, vz, phi, theta, psi, wx, wy, wz, t1, t2, t3, t4], X_dot.jacobian([t1, t2, t3, t4]), 'numpy')\n",
    "B_lin = sym.Matrix(B_(p_eq[0], p_eq[1], p_eq[2], v_eq[0], v_eq[1], v_eq[2], ang_eq[0], ang_eq[1], ang_eq[2], w_eq[0], w_eq[1], w_eq[2], tau_eq[0], tau_eq[1], tau_eq[2], tau_eq[3]))\n",
    "print(\"The A matrix and B Matrix:\")\n",
    "A_lin, B_lin\n",
    "\n"
   ]
  },
  {
   "cell_type": "code",
   "execution_count": null,
   "metadata": {},
   "outputs": [],
   "source": [
    "# Hovering in the air for 2 minutes\n",
    "# Define the desired position\n",
    "p_d = sym.Matrix([[0.], [0.], [1.]])\n",
    "\n",
    "# Define the desired velocity\n",
    "v_d = sym.Matrix([[0.], [0.], [0.]])\n",
    "# Define the desired roll, pitch, and yaw angles\n",
    "phi_d = 0\n",
    "theta_d = 0\n",
    "psi_d = 0\n",
    "\n",
    "# Define the desired angular velocities\n",
    "wx_d = 0\n",
    "wy_d = 0\n",
    "wz_d = 0\n",
    "\n",
    "# cocatenate the desired states\n",
    "x_d = sym.Matrix.vstack(p_d, v_d, phi_d, theta_d, psi_d, wx_d, wy_d, wz_d)"
   ]
  },
  {
   "cell_type": "code",
   "execution_count": 108,
   "metadata": {},
   "outputs": [
    {
     "ename": "TypeError",
     "evalue": "Cannot convert expression to float",
     "output_type": "error",
     "traceback": [
      "\u001b[1;31m---------------------------------------------------------------------------\u001b[0m",
      "\u001b[1;31mTypeError\u001b[0m                                 Traceback (most recent call last)",
      "Cell \u001b[1;32mIn[108], line 22\u001b[0m\n\u001b[0;32m     14\u001b[0m x[:, \u001b[38;5;241m0\u001b[39m] \u001b[38;5;241m=\u001b[39m np\u001b[38;5;241m.\u001b[39marray([\n\u001b[0;32m     15\u001b[0m     p_eq[\u001b[38;5;241m0\u001b[39m], p_eq[\u001b[38;5;241m1\u001b[39m], p_eq[\u001b[38;5;241m2\u001b[39m], \n\u001b[0;32m     16\u001b[0m     v_eq[\u001b[38;5;241m0\u001b[39m], v_eq[\u001b[38;5;241m1\u001b[39m], v_eq[\u001b[38;5;241m2\u001b[39m], \n\u001b[0;32m     17\u001b[0m     ang_eq[\u001b[38;5;241m0\u001b[39m], ang_eq[\u001b[38;5;241m1\u001b[39m], ang_eq[\u001b[38;5;241m2\u001b[39m], \n\u001b[0;32m     18\u001b[0m     w_eq[\u001b[38;5;241m0\u001b[39m], w_eq[\u001b[38;5;241m1\u001b[39m], w_eq[\u001b[38;5;241m2\u001b[39m]\n\u001b[0;32m     19\u001b[0m ])\u001b[38;5;241m.\u001b[39mflatten()\n\u001b[0;32m     21\u001b[0m \u001b[38;5;66;03m# Define the control input\u001b[39;00m\n\u001b[1;32m---> 22\u001b[0m \u001b[43mu\u001b[49m\u001b[43m[\u001b[49m\u001b[43m:\u001b[49m\u001b[43m,\u001b[49m\u001b[43m \u001b[49m\u001b[38;5;241;43m0\u001b[39;49m\u001b[43m]\u001b[49m \u001b[38;5;241m=\u001b[39m tau_eq\n\u001b[0;32m     24\u001b[0m \u001b[38;5;66;03m# Simulate the system\u001b[39;00m\n\u001b[0;32m     26\u001b[0m \u001b[38;5;28;01mfor\u001b[39;00m i \u001b[38;5;129;01min\u001b[39;00m \u001b[38;5;28mrange\u001b[39m(\u001b[38;5;241m1\u001b[39m, N):\n\u001b[0;32m     27\u001b[0m     \u001b[38;5;66;03m# Compute the control input\u001b[39;00m\n",
      "File \u001b[1;32mc:\\Users\\bhatt\\miniconda3\\envs\\ae353\\Lib\\site-packages\\sympy\\core\\expr.py:351\u001b[0m, in \u001b[0;36mExpr.__float__\u001b[1;34m(self)\u001b[0m\n\u001b[0;32m    349\u001b[0m \u001b[38;5;28;01mif\u001b[39;00m result\u001b[38;5;241m.\u001b[39mis_number \u001b[38;5;129;01mand\u001b[39;00m result\u001b[38;5;241m.\u001b[39mas_real_imag()[\u001b[38;5;241m1\u001b[39m]:\n\u001b[0;32m    350\u001b[0m     \u001b[38;5;28;01mraise\u001b[39;00m \u001b[38;5;167;01mTypeError\u001b[39;00m(\u001b[38;5;124m\"\u001b[39m\u001b[38;5;124mCannot convert complex to float\u001b[39m\u001b[38;5;124m\"\u001b[39m)\n\u001b[1;32m--> 351\u001b[0m \u001b[38;5;28;01mraise\u001b[39;00m \u001b[38;5;167;01mTypeError\u001b[39;00m(\u001b[38;5;124m\"\u001b[39m\u001b[38;5;124mCannot convert expression to float\u001b[39m\u001b[38;5;124m\"\u001b[39m)\n",
      "\u001b[1;31mTypeError\u001b[0m: Cannot convert expression to float"
     ]
    }
   ],
   "source": [
    "# create a for loop to simulate the system for 2 minutes\n",
    "# Define the time step\n",
    "dt = 0.01\n",
    "# Define the number of time steps\n",
    "N = 1200\n",
    "# Initialize the state vector\n",
    "x = np.zeros((12, N))\n",
    "# Initialize the control vector\n",
    "u = np.zeros((4, N))\n",
    "# Initialize the time vector\n",
    "t = np.zeros((N, 1))\n",
    "\n",
    "# Define the initial state\n",
    "x[:, 0] = np.array([\n",
    "    p_eq[0], p_eq[1], p_eq[2], \n",
    "    v_eq[0], v_eq[1], v_eq[2], \n",
    "    ang_eq[0], ang_eq[1], ang_eq[2], \n",
    "    w_eq[0], w_eq[1], w_eq[2]\n",
    "]).flatten()\n",
    "\n",
    "# Define the control input\n",
    "u[:, 0] = tau_eq\n",
    "\n",
    "# Simulate the system\n",
    "\n",
    "for i in range(1, N):\n",
    "    # Compute the control input\n",
    "    u[:, i] = tau_eq\n",
    "    # Compute the state rate vector\n",
    "    f = X_dot.subs({px: x[0, i-1], py: x[1, i-1], pz: x[2, i-1],\n",
    "                     vx: x[3, i-1], vy: x[4, i-1], vz: x[5, i-1],\n",
    "                     phi: x[6, i-1], theta: x[7, i-1], psi: x[8, i-1],\n",
    "                     wx: x[9, i-1], wy: x[10, i-1], wz: x[11, i-1],\n",
    "                     t1: u[0, i], t2: u[1, i], t3: u[2, i], t4: u[3, i],\n",
    "                    })\n",
    "    # Update the state vector\n",
    "    x[:, i] = x[:, i-1] + np.array(f).flatten()*dt\n",
    "    # Update the time vector\n",
    "    t[i] = t[i-1] + dt"
   ]
  },
  {
   "cell_type": "code",
   "execution_count": null,
   "metadata": {},
   "outputs": [],
   "source": [
    "# Plot the results\n",
    "import matplotlib.pyplot as plt\n",
    "plt.figure(figsize=(10, 10))\n",
    "plt.subplot(3, 1, 1)\n",
    "plt.plot(t, x[0, :], label='x')\n",
    "plt.plot(t, x[1, :], label='y')\n",
    "plt.plot(t, x[2, :], label='z')\n",
    "plt.xlabel('Time [s]')\n",
    "plt.ylabel('Position [m]')\n",
    "plt.legend()\n",
    "plt.grid()\n",
    "plt.subplot(3, 1, 2)\n",
    "plt.plot(t, x[3, :], label='vx')\n",
    "plt.plot(t, x[4, :], label='vy')\n",
    "plt.plot(t, x[5, :], label='vz')\n"
   ]
  },
  {
   "cell_type": "code",
   "execution_count": null,
   "metadata": {},
   "outputs": [],
   "source": []
  }
 ],
 "metadata": {
  "kernelspec": {
   "display_name": "ae353",
   "language": "python",
   "name": "python3"
  },
  "language_info": {
   "codemirror_mode": {
    "name": "ipython",
    "version": 3
   },
   "file_extension": ".py",
   "mimetype": "text/x-python",
   "name": "python",
   "nbconvert_exporter": "python",
   "pygments_lexer": "ipython3",
   "version": "3.11.7"
  }
 },
 "nbformat": 4,
 "nbformat_minor": 2
}
