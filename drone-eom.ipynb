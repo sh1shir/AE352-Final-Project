{
 "cells": [
  {
   "cell_type": "markdown",
   "metadata": {},
   "source": [
    "***Drone EOMs***\\\n",
    "This notebook details the EOMs of a drone anf simulates its trajectory based on the requirements.\\\n",
    "\n",
    "• The drone model shall have 6 degrees of freedom (center of mass\n",
    "motion plus attitude) and account for gravity and lift generated from 4\n",
    "rotors.\\\n",
    "• The drone model shall be able to modify its state and attitude solely\n",
    "through increasing or decreasing the number of revolutions per second of\n",
    "its 4 rotor blades, as determined by the motor torques.\\\n",
    "• The modeled drone shall be able to achieve the performance goals\n",
    "as outlined in section 4, without exhausting its power supply.\\\n",
    "• The model as determined through its parameters such as mass,\n",
    "power consumption, engine torques and rotor blade size shall be realistic\n",
    "and implementable, preferably through the use of off-the-shelf parts. In\n",
    "particular, the mass of the drone shall be between 0.1kg and 10kg."
   ]
  },
  {
   "cell_type": "code",
   "execution_count": 2,
   "metadata": {},
   "outputs": [],
   "source": [
    "import numpy as np\n",
    "import sympy as sym\n",
    "sym.init_printing()"
   ]
  },
  {
   "cell_type": "code",
   "execution_count": 3,
   "metadata": {},
   "outputs": [],
   "source": [
    "grav = 9.81 # The acceleration due to gravity in m/s^2\n",
    "t1, t2, t3, t4 = sym.symbols('tau_1 tau_2 tau_3 tau_4')\n",
    "\n",
    "Ixx = 0.0023  # The moment of inertia of the quadrotor in \n",
    "Iyy = 0.0023  # The mass of the quadrotor in kg\n",
    "Izz = 0.00466 # The mass of the quadrotor in kg\n",
    "l = 0.127       # The distance from the quadrotor frame to the mocap markers in meters\n",
    "C_l = 0.86        # The lift coefficient\n",
    "mass = 0.86      # The mass of the quad (kg)"
   ]
  },
  {
   "cell_type": "code",
   "execution_count": 4,
   "metadata": {},
   "outputs": [
    {
     "data": {
      "text/latex": [
       "$\\displaystyle \\left[\\begin{matrix}1.16279069767442 \\left(\\sin{\\left(\\phi \\right)} \\sin{\\left(\\psi \\right)} + \\sin{\\left(\\theta \\right)} \\cos{\\left(\\phi \\right)} \\cos{\\left(\\psi \\right)}\\right) \\left(0.86 \\tau_{1} + 0.86 \\tau_{2} + 0.86 \\tau_{3} + 0.86 \\tau_{4}\\right)\\\\1.16279069767442 \\left(- \\sin{\\left(\\phi \\right)} \\cos{\\left(\\psi \\right)} + \\sin{\\left(\\psi \\right)} \\sin{\\left(\\theta \\right)} \\cos{\\left(\\phi \\right)}\\right) \\left(0.86 \\tau_{1} + 0.86 \\tau_{2} + 0.86 \\tau_{3} + 0.86 \\tau_{4}\\right)\\\\1.16279069767442 \\cdot \\left(0.86 \\tau_{1} + 0.86 \\tau_{2} + 0.86 \\tau_{3} + 0.86 \\tau_{4}\\right) \\cos{\\left(\\phi \\right)} \\cos{\\left(\\theta \\right)} - 9.81\\end{matrix}\\right]$"
      ],
      "text/plain": [
       "⎡1.16279069767442⋅(sin(φ)⋅sin(ψ) + sin(θ)⋅cos(φ)⋅cos(ψ))⋅(0.86⋅τ₁ + 0.86⋅τ₂ + \n",
       "⎢                                                                             \n",
       "⎢1.16279069767442⋅(-sin(φ)⋅cos(ψ) + sin(ψ)⋅sin(θ)⋅cos(φ))⋅(0.86⋅τ₁ + 0.86⋅τ₂ +\n",
       "⎢                                                                             \n",
       "⎣         1.16279069767442⋅(0.86⋅τ₁ + 0.86⋅τ₂ + 0.86⋅τ₃ + 0.86⋅τ₄)⋅cos(φ)⋅cos(\n",
       "\n",
       "0.86⋅τ₃ + 0.86⋅τ₄) ⎤\n",
       "                   ⎥\n",
       " 0.86⋅τ₃ + 0.86⋅τ₄)⎥\n",
       "                   ⎥\n",
       "θ) - 9.81          ⎦"
      ]
     },
     "execution_count": 4,
     "metadata": {},
     "output_type": "execute_result"
    }
   ],
   "source": [
    "# Define position\n",
    "px, py, pz = sym.symbols('p_x, p_y, p_z')\n",
    "p = sym.Matrix([[px],\n",
    "                    [py],\n",
    "                    [pz]])\n",
    "\n",
    "# Define velocity (in body frame)\n",
    "vx, vy, vz = sym.symbols('v_x, v_y, v_z')\n",
    "v = sym.Matrix([[vx],\n",
    "                    [vy],\n",
    "                    [vz]])\n",
    "\n",
    "# Define roll (phi), pitch (theta), and yaw (psi) angles\n",
    "phi, theta, psi = sym.symbols('phi, theta, psi')\n",
    "\n",
    "# Define angular velocities (in body frame)\n",
    "wx, wy, wz = sym.symbols('omega_x, omega_y, omega_z')\n",
    "w = sym.Matrix([[wx],\n",
    "                [wy],\n",
    "                [wz]])\n",
    "\n",
    "# Define roll, pitch, and yaw rotation matrices that describe the bus's orientation in the \n",
    "# world frame\n",
    "Rx = sym.Matrix([[1,            0,             0],\n",
    "                 [0, sym.cos(phi), -sym.sin(phi)],\n",
    "                 [0, sym.sin(phi),  sym.cos(phi)]])\n",
    "Ry = sym.Matrix([[ sym.cos(theta), 0, sym.sin(theta)],\n",
    "                 [              0, 1,              0],\n",
    "                 [-sym.sin(theta), 0, sym.cos(theta)]])\n",
    "Rz = sym.Matrix([[sym.cos(psi), -sym.sin(psi), 0],\n",
    "                 [sym.sin(psi),  sym.cos(psi), 0],\n",
    "                 [           0,             0, 1]])\n",
    "R_to_W = Rz @ Ry @ Rx\n",
    "R_to_B = R_to_W.T\n",
    "\n",
    "# Define the thrust and torques generated by each rotor\n",
    "thrust = sym.Matrix([[0],\n",
    "                     [0],\n",
    "                     [C_l*(t1 + t2 + t3 + t4)]])\n",
    "\n",
    "# Rotate the thrust vector into the world frame\n",
    "thrust_inW = R_to_W @ thrust\n",
    "\n",
    "grav_in_W = sym.Matrix([[0.],\n",
    "                       [0.],\n",
    "                       [-mass * grav]])\n",
    "\n",
    "# final translational dynamics\n",
    "F = (thrust_inW + grav_in_W) / mass\n",
    "F\n",
    "\n"
   ]
  },
  {
   "cell_type": "code",
   "execution_count": 5,
   "metadata": {},
   "outputs": [
    {
     "data": {
      "text/latex": [
       "$\\displaystyle \\left[\\begin{matrix}- 1.02608695652174 \\omega_{y} \\omega_{z} + 47.4869565217391 \\tau_{1} - 47.4869565217391 \\tau_{3}\\\\1.02608695652174 \\omega_{x} \\omega_{z} + 47.4869565217391 \\tau_{2} - 47.4869565217391 \\tau_{4}\\\\214.592274678112 \\tau_{1} - 214.592274678112 \\tau_{2} + 214.592274678112 \\tau_{3} - 214.592274678112 \\tau_{4}\\end{matrix}\\right]$"
      ],
      "text/plain": [
       "⎡        -1.02608695652174⋅ω_y⋅ω_z + 47.4869565217391⋅τ₁ - 47.4869565217391⋅τ₃\n",
       "⎢                                                                             \n",
       "⎢         1.02608695652174⋅ωₓ⋅ω_z + 47.4869565217391⋅τ₂ - 47.4869565217391⋅τ₄ \n",
       "⎢                                                                             \n",
       "⎣214.592274678112⋅τ₁ - 214.592274678112⋅τ₂ + 214.592274678112⋅τ₃ - 214.5922746\n",
       "\n",
       "        ⎤\n",
       "        ⎥\n",
       "        ⎥\n",
       "        ⎥\n",
       "78112⋅τ₄⎦"
      ]
     },
     "execution_count": 5,
     "metadata": {},
     "output_type": "execute_result"
    }
   ],
   "source": [
    "# Assemble the moment of inertia matrix\n",
    "I_inB = sym.Matrix([[Ixx, 0.,  0.],\n",
    "                    [0.,  Iyy, 0.],\n",
    "                    [0.,  0.,  Izz]])\n",
    "\n",
    "\n",
    "# Define the torques generated by each rotor\n",
    "tau = sym.Matrix([[l*C_l*(t1 - t3)],\n",
    "                  [l*C_l*(t2 - t4)],\n",
    "                  [(t1 - t2 + t3 - t4)]])\n",
    "\n",
    "# Compute the angular acceleration in the body frame\n",
    "# tau_inB = R_to_B @ tau\n",
    "w_dot = I_inB.inv() @ (tau - w.cross(I_inB @ w))\n",
    "\n",
    "# final rotational dynamics\n",
    "w_dot\n",
    "\n",
    "\n"
   ]
  },
  {
   "cell_type": "code",
   "execution_count": 6,
   "metadata": {},
   "outputs": [
    {
     "data": {
      "text/latex": [
       "$\\displaystyle \\left[\\begin{matrix}v_{x}\\\\v_{y}\\\\v_{z}\\\\1.16279069767442 \\left(\\sin{\\left(\\phi \\right)} \\sin{\\left(\\psi \\right)} + \\sin{\\left(\\theta \\right)} \\cos{\\left(\\phi \\right)} \\cos{\\left(\\psi \\right)}\\right) \\left(0.86 \\tau_{1} + 0.86 \\tau_{2} + 0.86 \\tau_{3} + 0.86 \\tau_{4}\\right)\\\\1.16279069767442 \\left(- \\sin{\\left(\\phi \\right)} \\cos{\\left(\\psi \\right)} + \\sin{\\left(\\psi \\right)} \\sin{\\left(\\theta \\right)} \\cos{\\left(\\phi \\right)}\\right) \\left(0.86 \\tau_{1} + 0.86 \\tau_{2} + 0.86 \\tau_{3} + 0.86 \\tau_{4}\\right)\\\\1.16279069767442 \\cdot \\left(0.86 \\tau_{1} + 0.86 \\tau_{2} + 0.86 \\tau_{3} + 0.86 \\tau_{4}\\right) \\cos{\\left(\\phi \\right)} \\cos{\\left(\\theta \\right)} - 9.81\\\\\\omega_{x}\\\\\\omega_{y}\\\\\\omega_{z}\\\\- 1.02608695652174 \\omega_{y} \\omega_{z} + 47.4869565217391 \\tau_{1} - 47.4869565217391 \\tau_{3}\\\\1.02608695652174 \\omega_{x} \\omega_{z} + 47.4869565217391 \\tau_{2} - 47.4869565217391 \\tau_{4}\\\\214.592274678112 \\tau_{1} - 214.592274678112 \\tau_{2} + 214.592274678112 \\tau_{3} - 214.592274678112 \\tau_{4}\\end{matrix}\\right]$"
      ],
      "text/plain": [
       "⎡                                               vₓ                            \n",
       "⎢                                                                             \n",
       "⎢                                              v_y                            \n",
       "⎢                                                                             \n",
       "⎢                                              v_z                            \n",
       "⎢                                                                             \n",
       "⎢1.16279069767442⋅(sin(φ)⋅sin(ψ) + sin(θ)⋅cos(φ)⋅cos(ψ))⋅(0.86⋅τ₁ + 0.86⋅τ₂ + \n",
       "⎢                                                                             \n",
       "⎢1.16279069767442⋅(-sin(φ)⋅cos(ψ) + sin(ψ)⋅sin(θ)⋅cos(φ))⋅(0.86⋅τ₁ + 0.86⋅τ₂ +\n",
       "⎢                                                                             \n",
       "⎢         1.16279069767442⋅(0.86⋅τ₁ + 0.86⋅τ₂ + 0.86⋅τ₃ + 0.86⋅τ₄)⋅cos(φ)⋅cos(\n",
       "⎢                                                                             \n",
       "⎢                                               ωₓ                            \n",
       "⎢                                                                             \n",
       "⎢                                              ω_y                            \n",
       "⎢                                                                             \n",
       "⎢                                              ω_z                            \n",
       "⎢                                                                             \n",
       "⎢             -1.02608695652174⋅ω_y⋅ω_z + 47.4869565217391⋅τ₁ - 47.48695652173\n",
       "⎢                                                                             \n",
       "⎢              1.02608695652174⋅ωₓ⋅ω_z + 47.4869565217391⋅τ₂ - 47.486956521739\n",
       "⎢                                                                             \n",
       "⎣     214.592274678112⋅τ₁ - 214.592274678112⋅τ₂ + 214.592274678112⋅τ₃ - 214.59\n",
       "\n",
       "                   ⎤\n",
       "                   ⎥\n",
       "                   ⎥\n",
       "                   ⎥\n",
       "                   ⎥\n",
       "                   ⎥\n",
       "0.86⋅τ₃ + 0.86⋅τ₄) ⎥\n",
       "                   ⎥\n",
       " 0.86⋅τ₃ + 0.86⋅τ₄)⎥\n",
       "                   ⎥\n",
       "θ) - 9.81          ⎥\n",
       "                   ⎥\n",
       "                   ⎥\n",
       "                   ⎥\n",
       "                   ⎥\n",
       "                   ⎥\n",
       "                   ⎥\n",
       "                   ⎥\n",
       "91⋅τ₃              ⎥\n",
       "                   ⎥\n",
       "1⋅τ₄               ⎥\n",
       "                   ⎥\n",
       "2274678112⋅τ₄      ⎦"
      ]
     },
     "execution_count": 6,
     "metadata": {},
     "output_type": "execute_result"
    }
   ],
   "source": [
    "# cocatenate the translational and rotational dynamics\n",
    "pdot = sym.Matrix.vstack(v)\n",
    "ang_dot = sym.Matrix.vstack(w)\n",
    "X_dot = sym.Matrix.vstack(pdot, F, ang_dot, w_dot)\n",
    "X_dot"
   ]
  },
  {
   "cell_type": "code",
   "execution_count": null,
   "metadata": {},
   "outputs": [],
   "source": []
  },
  {
   "cell_type": "code",
   "execution_count": 7,
   "metadata": {},
   "outputs": [
    {
     "name": "stdout",
     "output_type": "stream",
     "text": [
      "The state rate vector at the equilibrium point:\n"
     ]
    },
    {
     "data": {
      "text/latex": [
       "$\\displaystyle \\left[\\begin{matrix}0\\\\0\\\\0\\\\0\\\\0\\\\0\\\\0\\\\0\\\\0\\\\0\\\\0\\\\0\\end{matrix}\\right]$"
      ],
      "text/plain": [
       "⎡0⎤\n",
       "⎢ ⎥\n",
       "⎢0⎥\n",
       "⎢ ⎥\n",
       "⎢0⎥\n",
       "⎢ ⎥\n",
       "⎢0⎥\n",
       "⎢ ⎥\n",
       "⎢0⎥\n",
       "⎢ ⎥\n",
       "⎢0⎥\n",
       "⎢ ⎥\n",
       "⎢0⎥\n",
       "⎢ ⎥\n",
       "⎢0⎥\n",
       "⎢ ⎥\n",
       "⎢0⎥\n",
       "⎢ ⎥\n",
       "⎢0⎥\n",
       "⎢ ⎥\n",
       "⎢0⎥\n",
       "⎢ ⎥\n",
       "⎣0⎦"
      ]
     },
     "execution_count": 7,
     "metadata": {},
     "output_type": "execute_result"
    }
   ],
   "source": [
    "# Finding the equilibrium points of the system\n",
    "# Define the equilibrium point\n",
    "p_eq = np.array([0., 0., 0.])\n",
    "v_eq = np.array([0., 0., 0.])\n",
    "ang_eq = np.array([[0.], [0.], [0.]]).flatten()\n",
    "w_eq = np.array([[0.], [0.], [0.]]).flatten()\n",
    "tau_eq = np.array([[mass*grav/4], [mass*grav/4], [mass*grav/4], [mass*grav/4]]).flatten()\n",
    "tau_eq /= C_l\n",
    "# plug equilibrium values into the state rate vector\n",
    "f_eq = X_dot.subs({px: p_eq[0], py: p_eq[1], pz: p_eq[2],\n",
    "                     vx: v_eq[0], vy: v_eq[1], vz: v_eq[2],\n",
    "                     phi: ang_eq[0], theta: ang_eq[1], psi: ang_eq[2],\n",
    "                     wx: w_eq[0], wy: w_eq[1], wz: w_eq[2],\n",
    "                     t1: tau_eq[0], t2: tau_eq[1], t3: tau_eq[2], t4: tau_eq[3],\n",
    "                    })\n",
    "print(\"The state rate vector at the equilibrium point:\")\n",
    "sym.N(f_eq,3)\n"
   ]
  },
  {
   "cell_type": "code",
   "execution_count": 8,
   "metadata": {},
   "outputs": [
    {
     "name": "stdout",
     "output_type": "stream",
     "text": [
      "The A matrix and B Matrix:\n"
     ]
    },
    {
     "data": {
      "text/latex": [
       "$\\displaystyle \\left( \\left[\\begin{array}{cccccccccccc}0 & 0 & 0 & 1.0 & 0 & 0 & 0 & 0 & 0 & 0 & 0 & 0\\\\0 & 0 & 0 & 0 & 1.0 & 0 & 0 & 0 & 0 & 0 & 0 & 0\\\\0 & 0 & 0 & 0 & 0 & 1.0 & 0 & 0 & 0 & 0 & 0 & 0\\\\0 & 0 & 0 & 0 & 0 & 0 & 0 & 9.81000000000001 & 0 & 0 & 0 & 0\\\\0 & 0 & 0 & 0 & 0 & 0 & -9.81000000000001 & 0 & 0 & 0 & 0 & 0\\\\0 & 0 & 0 & 0 & 0 & 0 & 0 & 0 & 0 & 0 & 0 & 0\\\\0 & 0 & 0 & 0 & 0 & 0 & 0 & 0 & 0 & 1.0 & 0 & 0\\\\0 & 0 & 0 & 0 & 0 & 0 & 0 & 0 & 0 & 0 & 1.0 & 0\\\\0 & 0 & 0 & 0 & 0 & 0 & 0 & 0 & 0 & 0 & 0 & 1.0\\\\0 & 0 & 0 & 0 & 0 & 0 & 0 & 0 & 0 & 0 & 0 & 0\\\\0 & 0 & 0 & 0 & 0 & 0 & 0 & 0 & 0 & 0 & 0 & 0\\\\0 & 0 & 0 & 0 & 0 & 0 & 0 & 0 & 0 & 0 & 0 & 0\\end{array}\\right], \\  \\left[\\begin{matrix}0 & 0 & 0 & 0\\\\0 & 0 & 0 & 0\\\\0 & 0 & 0 & 0\\\\0 & 0 & 0 & 0\\\\0 & 0 & 0 & 0\\\\1.0 & 1.0 & 1.0 & 1.0\\\\0 & 0 & 0 & 0\\\\0 & 0 & 0 & 0\\\\0 & 0 & 0 & 0\\\\47.4869565217391 & 0 & -47.4869565217391 & 0\\\\0 & 47.4869565217391 & 0 & -47.4869565217391\\\\214.592274678112 & -214.592274678112 & 214.592274678112 & -214.592274678112\\end{matrix}\\right]\\right)$"
      ],
      "text/plain": [
       "⎛⎡0  0  0  1.0   0    0           0                 0          0   0    0    0\n",
       "⎜⎢                                                                            \n",
       "⎜⎢0  0  0   0   1.0   0           0                 0          0   0    0    0\n",
       "⎜⎢                                                                            \n",
       "⎜⎢0  0  0   0    0   1.0          0                 0          0   0    0    0\n",
       "⎜⎢                                                                            \n",
       "⎜⎢0  0  0   0    0    0           0          9.81000000000001  0   0    0    0\n",
       "⎜⎢                                                                            \n",
       "⎜⎢0  0  0   0    0    0   -9.81000000000001         0          0   0    0    0\n",
       "⎜⎢                                                                            \n",
       "⎜⎢0  0  0   0    0    0           0                 0          0   0    0    0\n",
       "⎜⎢                                                                            \n",
       "⎜⎢0  0  0   0    0    0           0                 0          0  1.0   0    0\n",
       "⎜⎢                                                                            \n",
       "⎜⎢0  0  0   0    0    0           0                 0          0   0   1.0   0\n",
       "⎜⎢                                                                            \n",
       "⎜⎢0  0  0   0    0    0           0                 0          0   0    0   1.\n",
       "⎜⎢                                                                            \n",
       "⎜⎢0  0  0   0    0    0           0                 0          0   0    0    0\n",
       "⎜⎢                                                                            \n",
       "⎜⎢0  0  0   0    0    0           0                 0          0   0    0    0\n",
       "⎜⎢                                                                            \n",
       "⎝⎣0  0  0   0    0    0           0                 0          0   0    0    0\n",
       "\n",
       " ⎤  ⎡       0                  0                  0                  0        \n",
       " ⎥  ⎢                                                                         \n",
       " ⎥  ⎢       0                  0                  0                  0        \n",
       " ⎥  ⎢                                                                         \n",
       " ⎥  ⎢       0                  0                  0                  0        \n",
       " ⎥  ⎢                                                                         \n",
       " ⎥  ⎢       0                  0                  0                  0        \n",
       " ⎥  ⎢                                                                         \n",
       " ⎥  ⎢       0                  0                  0                  0        \n",
       " ⎥  ⎢                                                                         \n",
       " ⎥  ⎢      1.0                1.0                1.0                1.0       \n",
       " ⎥, ⎢                                                                         \n",
       " ⎥  ⎢       0                  0                  0                  0        \n",
       " ⎥  ⎢                                                                         \n",
       " ⎥  ⎢       0                  0                  0                  0        \n",
       " ⎥  ⎢                                                                         \n",
       "0⎥  ⎢       0                  0                  0                  0        \n",
       " ⎥  ⎢                                                                         \n",
       " ⎥  ⎢47.4869565217391          0          -47.4869565217391          0        \n",
       " ⎥  ⎢                                                                         \n",
       " ⎥  ⎢       0          47.4869565217391           0          -47.4869565217391\n",
       " ⎥  ⎢                                                                         \n",
       " ⎦  ⎣214.592274678112  -214.592274678112  214.592274678112   -214.592274678112\n",
       "\n",
       "⎤⎞\n",
       "⎥⎟\n",
       "⎥⎟\n",
       "⎥⎟\n",
       "⎥⎟\n",
       "⎥⎟\n",
       "⎥⎟\n",
       "⎥⎟\n",
       "⎥⎟\n",
       "⎥⎟\n",
       "⎥⎟\n",
       "⎥⎟\n",
       "⎥⎟\n",
       "⎥⎟\n",
       "⎥⎟\n",
       "⎥⎟\n",
       "⎥⎟\n",
       "⎥⎟\n",
       "⎥⎟\n",
       "⎥⎟\n",
       "⎥⎟\n",
       "⎥⎟\n",
       "⎦⎠"
      ]
     },
     "execution_count": 8,
     "metadata": {},
     "output_type": "execute_result"
    }
   ],
   "source": [
    "# Linearize the system\n",
    "# A_ = f_eq.jacobian(X_dot)\n",
    "A_ = sym.lambdify([px, py, pz, vx, vy, vz, phi, theta, psi, wx, wy, wz, t1, t2, t3, t4], X_dot.jacobian([px, py, pz, vx, vy, vz, phi, theta, psi, wx, wy, wz]), 'numpy')\n",
    "# substitute the equilibrium values into the A matrix\n",
    "A_lin = sym.Matrix(A_(p_eq[0], p_eq[1], p_eq[2], v_eq[0], v_eq[1], v_eq[2], ang_eq[0], ang_eq[1], ang_eq[2], w_eq[0], w_eq[1], w_eq[2], tau_eq[0], tau_eq[1], tau_eq[2], tau_eq[3]))\n",
    "B_ = sym.lambdify([px, py, pz, vx, vy, vz, phi, theta, psi, wx, wy, wz, t1, t2, t3, t4], X_dot.jacobian([t1, t2, t3, t4]), 'numpy')\n",
    "B_lin = sym.Matrix(B_(p_eq[0], p_eq[1], p_eq[2], v_eq[0], v_eq[1], v_eq[2], ang_eq[0], ang_eq[1], ang_eq[2], w_eq[0], w_eq[1], w_eq[2], tau_eq[0], tau_eq[1], tau_eq[2], tau_eq[3]))\n",
    "print(\"The A matrix and B Matrix:\")\n",
    "A_lin, B_lin\n",
    "\n"
   ]
  },
  {
   "cell_type": "code",
   "execution_count": 9,
   "metadata": {},
   "outputs": [
    {
     "data": {
      "text/plain": [
       "array([[0],\n",
       "       [0],\n",
       "       [1.00000000000000],\n",
       "       [0],\n",
       "       [0],\n",
       "       [0],\n",
       "       [0.0],\n",
       "       [0.0],\n",
       "       [0.0],\n",
       "       [0.0],\n",
       "       [0.0],\n",
       "       [0.0]], dtype=object)"
      ]
     },
     "execution_count": 9,
     "metadata": {},
     "output_type": "execute_result"
    }
   ],
   "source": [
    "# Hovering in the air for 2 minutes\n",
    "# Define the desired position\n",
    "p_d = sym.Matrix([[0.], [0.], [1.]])\n",
    "\n",
    "# Define the desired velocity\n",
    "v_d = sym.Matrix([[0.], [0.], [0.]])\n",
    "# Define the desired roll, pitch, and yaw angles\n",
    "phi_d = 0.\n",
    "theta_d = 0.\n",
    "psi_d = 0.\n",
    "\n",
    "# Define the desired angular velocities\n",
    "wx_d = 0.\n",
    "wy_d = 0.\n",
    "wz_d = 0.\n",
    "\n",
    "# cocatenate the desired states\n",
    "x_d = np.vstack((p_d, v_d, phi_d, theta_d, psi_d, wx_d, wy_d, wz_d))\n",
    "x_d"
   ]
  },
  {
   "cell_type": "code",
   "execution_count": 15,
   "metadata": {},
   "outputs": [],
   "source": [
    "# create a for loop to simulate the system for 2 minutes\n",
    "# Define the time step\n",
    "dt = 0.001\n",
    "# Define the number of time steps\n",
    "N = 1200\n",
    "# Initialize the state vector\n",
    "x = np.zeros((12, N))\n",
    "# Initialize the control vector\n",
    "u = np.zeros((4, N))\n",
    "# Initialize the time vector\n",
    "t = np.zeros((N, 1))\n",
    "\n",
    "# Define the initial state\n",
    "x[:, 0] = np.array([[p_eq[0]], [p_eq[1]], [1.], [v_eq[0]], [v_eq[1]], [v_eq[2]], [ang_eq[0]], [ang_eq[1]], [ang_eq[2]], [w_eq[0]], [w_eq[1]], [w_eq[2]]]).flatten()\n",
    "\n",
    "# Define the control input\n",
    "u[:, 0] = tau_eq\n",
    "\n",
    "K = np.array([[1.0, 1., 1., 1.0], [1.0, 1., 1., 1.0], [1.0, 1.0, 1., 1.0]]).T\n",
    "\n",
    "# Simulate the system\n",
    "for i in range(1, N):\n",
    "    # Compute the control input\n",
    "    e = np.array([x[:3, i-1] - x_d[:3].flatten()]).flatten()\n",
    "    u[:, i] = tau_eq\n",
    "    # Compute the state rate vector\n",
    "    f = X_dot.subs({px: x[0, i-1], py: x[1, i-1], pz: x[2, i-1],\n",
    "                     vx: x[3, i-1], vy: x[4, i-1], vz: x[5, i-1],\n",
    "                     phi: x[6, i-1], theta: x[7, i-1], psi: x[8, i-1],\n",
    "                     wx: x[9, i-1], wy: x[10, i-1], wz: x[11, i-1],\n",
    "                     t1: u[0, i], t2: u[1, i], t3: u[2, i], t4: u[3, i],\n",
    "                    })\n",
    "    # Update the state vector\n",
    "    x[:, i] = x[:, i-1] + np.array(f).flatten()*dt\n",
    "    # Update the time vector\n",
    "    t[i] = t[i-1] + dt"
   ]
  },
  {
   "cell_type": "code",
   "execution_count": 20,
   "metadata": {},
   "outputs": [
    {
     "data": {
      "image/png": "[encoded data removed]",
      "text/plain": [
       "<Figure size 1000x1000 with 3 Axes>"
      ]
     },
     "metadata": {},
     "output_type": "display_data"
    },
    {
     "data": {
      "image/png": "[encoded data removed]",
      "text/plain": [
       "<Figure size 1000x500 with 1 Axes>"
      ]
     },
     "metadata": {},
     "output_type": "display_data"
    }
   ],
   "source": [
    "# Plot the results\n",
    "import matplotlib.pyplot as plt\n",
    "plt.figure(figsize=(10, 10))\n",
    "plt.subplot(3, 1, 1)\n",
    "plt.plot(t, x[0, :], label='x', alpha=0.7)\n",
    "plt.plot(t, x[1, :], label='y', alpha=0.7)\n",
    "plt.plot(t, x[2, :], label='z')\n",
    "plt.title('Position, Velocity and Andular Position of the Quadrotor Hovering at 1m')\n",
    "plt.xlabel('Time [s]')\n",
    "plt.ylabel('Position [m]')\n",
    "plt.legend()\n",
    "plt.grid()\n",
    "plt.subplot(3, 1, 2)\n",
    "plt.plot(t, x[3, :], label='vx')\n",
    "plt.plot(t, x[4, :], label='vy')\n",
    "plt.plot(t, x[5, :], label='vz')\n",
    "plt.xlabel('Time [s]')\n",
    "plt.ylabel('Velocity [m/s]')\n",
    "plt.legend()\n",
    "plt.grid()\n",
    "plt.subplot(3, 1, 3)\n",
    "plt.plot(t, x[6, :], label='phi')\n",
    "plt.plot(t, x[7, :], label='theta')\n",
    "plt.plot(t, x[8, :], label='psi')\n",
    "plt.xlabel('Time [s]')      \n",
    "plt.ylabel('Angles [rad]')\n",
    "plt.legend()\n",
    "plt.grid()\n",
    "plt.show()\n",
    "\n",
    "# Plot the control inputs\n",
    "plt.figure(figsize=(10, 5))\n",
    "plt.plot(t, u[0, :], label='t1')\n",
    "plt.plot(t, u[1, :], label='t2')\n",
    "plt.plot(t, u[2, :], label='t3')\n",
    "plt.plot(t, u[3, :], label='t4')\n",
    "plt.title('Control Inputs')\n",
    "plt.xlabel('Time [s]')\n",
    "plt.ylabel('Control Input')\n",
    "plt.legend()\n",
    "plt.grid()\n",
    "plt.show()\n",
    "\n"
   ]
  },
  {
   "cell_type": "code",
   "execution_count": 22,
   "metadata": {},
   "outputs": [
    {
     "ename": "ValueError",
     "evalue": "setting an array element with a sequence. The requested array has an inhomogeneous shape after 1 dimensions. The detected shape was (6,) + inhomogeneous part.",
     "output_type": "error",
     "traceback": [
      "\u001b[1;31m---------------------------------------------------------------------------\u001b[0m",
      "\u001b[1;31mValueError\u001b[0m                                Traceback (most recent call last)",
      "Cell \u001b[1;32mIn[22], line 36\u001b[0m\n\u001b[0;32m     34\u001b[0m u[:, i] \u001b[38;5;241m=\u001b[39m tau_eq\n\u001b[0;32m     35\u001b[0m \u001b[38;5;66;03m# Compute the desired state\u001b[39;00m\n\u001b[1;32m---> 36\u001b[0m x_d \u001b[38;5;241m=\u001b[39m \u001b[43mdesired\u001b[49m\u001b[43m(\u001b[49m\u001b[43mt\u001b[49m\u001b[43m[\u001b[49m\u001b[43mi\u001b[49m\u001b[43m]\u001b[49m\u001b[43m)\u001b[49m\n\u001b[0;32m     37\u001b[0m \u001b[38;5;66;03m# Compute the state rate vector\u001b[39;00m\n\u001b[0;32m     38\u001b[0m f \u001b[38;5;241m=\u001b[39m X_dot\u001b[38;5;241m.\u001b[39msubs({px: x[\u001b[38;5;241m0\u001b[39m, i\u001b[38;5;241m-\u001b[39m\u001b[38;5;241m1\u001b[39m], py: x[\u001b[38;5;241m1\u001b[39m, i\u001b[38;5;241m-\u001b[39m\u001b[38;5;241m1\u001b[39m], pz: x[\u001b[38;5;241m2\u001b[39m, i\u001b[38;5;241m-\u001b[39m\u001b[38;5;241m1\u001b[39m],\n\u001b[0;32m     39\u001b[0m                  vx: x[\u001b[38;5;241m3\u001b[39m, i\u001b[38;5;241m-\u001b[39m\u001b[38;5;241m1\u001b[39m], vy: x[\u001b[38;5;241m4\u001b[39m, i\u001b[38;5;241m-\u001b[39m\u001b[38;5;241m1\u001b[39m], vz: x[\u001b[38;5;241m5\u001b[39m, i\u001b[38;5;241m-\u001b[39m\u001b[38;5;241m1\u001b[39m],\n\u001b[0;32m     40\u001b[0m                  phi: x[\u001b[38;5;241m6\u001b[39m, i\u001b[38;5;241m-\u001b[39m\u001b[38;5;241m1\u001b[39m], theta: x[\u001b[38;5;241m7\u001b[39m, i\u001b[38;5;241m-\u001b[39m\u001b[38;5;241m1\u001b[39m], psi: x[\u001b[38;5;241m8\u001b[39m, i\u001b[38;5;241m-\u001b[39m\u001b[38;5;241m1\u001b[39m],\n\u001b[0;32m     41\u001b[0m                  wx: x[\u001b[38;5;241m9\u001b[39m, i\u001b[38;5;241m-\u001b[39m\u001b[38;5;241m1\u001b[39m], wy: x[\u001b[38;5;241m10\u001b[39m, i\u001b[38;5;241m-\u001b[39m\u001b[38;5;241m1\u001b[39m], wz: x[\u001b[38;5;241m11\u001b[39m, i\u001b[38;5;241m-\u001b[39m\u001b[38;5;241m1\u001b[39m],\n\u001b[0;32m     42\u001b[0m                  t1: u[\u001b[38;5;241m0\u001b[39m, i], t2: u[\u001b[38;5;241m1\u001b[39m, i], t3: u[\u001b[38;5;241m2\u001b[39m, i], t4: u[\u001b[38;5;241m3\u001b[39m, i],\n\u001b[0;32m     43\u001b[0m                 })\n",
      "Cell \u001b[1;32mIn[22], line 25\u001b[0m, in \u001b[0;36mdesired\u001b[1;34m(t)\u001b[0m\n\u001b[0;32m     23\u001b[0m vy_d \u001b[38;5;241m=\u001b[39m r\u001b[38;5;241m*\u001b[39mw\u001b[38;5;241m*\u001b[39mnp\u001b[38;5;241m.\u001b[39mcos(w\u001b[38;5;241m*\u001b[39mt)\n\u001b[0;32m     24\u001b[0m vz_d \u001b[38;5;241m=\u001b[39m \u001b[38;5;241m0\u001b[39m\n\u001b[1;32m---> 25\u001b[0m \u001b[38;5;28;01mreturn\u001b[39;00m \u001b[43mnp\u001b[49m\u001b[38;5;241;43m.\u001b[39;49m\u001b[43marray\u001b[49m\u001b[43m(\u001b[49m\u001b[43m[\u001b[49m\u001b[43mx_d\u001b[49m\u001b[43m,\u001b[49m\u001b[43m \u001b[49m\u001b[43my_d\u001b[49m\u001b[43m,\u001b[49m\u001b[43m \u001b[49m\u001b[43mz_d\u001b[49m\u001b[43m,\u001b[49m\u001b[43m \u001b[49m\u001b[43mvx_d\u001b[49m\u001b[43m,\u001b[49m\u001b[43m \u001b[49m\u001b[43mvy_d\u001b[49m\u001b[43m,\u001b[49m\u001b[43m \u001b[49m\u001b[43mvz_d\u001b[49m\u001b[43m]\u001b[49m\u001b[43m)\u001b[49m\n",
      "\u001b[1;31mValueError\u001b[0m: setting an array element with a sequence. The requested array has an inhomogeneous shape after 1 dimensions. The detected shape was (6,) + inhomogeneous part."
     ]
    }
   ],
   "source": [
    "# Simulate the drone moving in a circle with a fixed radius of 2 meters with a constant height of 1 meter with a speed of 0.5 for 1 minute\n",
    "# Constraints:\n",
    "# norm(v) = 0.5\n",
    "\n",
    "# Define the initial state\n",
    "x[:, 0] = np.array([\n",
    "    1, 0, 1, \n",
    "    v_eq[0], v_eq[1], v_eq[2], \n",
    "    ang_eq[0], ang_eq[1], ang_eq[2], \n",
    "    w_eq[0], w_eq[1], w_eq[2]\n",
    "]).flatten()\n",
    "\n",
    "# Define the control input\n",
    "u[:, 0] = tau_eq\n",
    "\n",
    "def desired(t):\n",
    "    r = 2\n",
    "    w = 0.5\n",
    "    x_d = r*np.cos(w*t)\n",
    "    y_d = r*np.sin(w*t)\n",
    "    z_d = 1\n",
    "    vx_d = -r*w*np.sin(w*t)\n",
    "    vy_d = r*w*np.cos(w*t)\n",
    "    vz_d = 0\n",
    "    return np.array([x_d, y_d, z_d, vx_d, vy_d, vz_d])\n",
    "\n",
    "# initliaze the desired state\n",
    "x_d = desired(0)\n",
    "\n",
    "# Simulate the system\n",
    "for i in range(1, N):\n",
    "    # Compute the control input\n",
    "    e = np.array([x[:3, i-1] - x_d[:3].flatten()]).flatten()\n",
    "    u[:, i] = tau_eq\n",
    "    # Compute the desired state\n",
    "    x_d = desired(t[i])\n",
    "    # Compute the state rate vector\n",
    "    f = X_dot.subs({px: x[0, i-1], py: x[1, i-1], pz: x[2, i-1],\n",
    "                     vx: x[3, i-1], vy: x[4, i-1], vz: x[5, i-1],\n",
    "                     phi: x[6, i-1], theta: x[7, i-1], psi: x[8, i-1],\n",
    "                     wx: x[9, i-1], wy: x[10, i-1], wz: x[11, i-1],\n",
    "                     t1: u[0, i], t2: u[1, i], t3: u[2, i], t4: u[3, i],\n",
    "                    })\n",
    "    # Update the state vector\n",
    "    x[:, i] = x[:, i-1] + np.array(f).flatten()*dt\n",
    "    # Update the time vector\n",
    "    t[i] = t[i-1] + dt"
   ]
  },
  {
   "cell_type": "code",
   "execution_count": null,
   "metadata": {},
   "outputs": [],
   "source": []
  }
 ],
 "metadata": {
  "kernelspec": {
   "display_name": "ae353",
   "language": "python",
   "name": "python3"
  },
  "language_info": {
   "codemirror_mode": {
    "name": "ipython",
    "version": 3
   },
   "file_extension": ".py",
   "mimetype": "text/x-python",
   "name": "python",
   "nbconvert_exporter": "python",
   "pygments_lexer": "ipython3",
   "version": "3.11.7"
  }
 },
 "nbformat": 4,
 "nbformat_minor": 2
}
